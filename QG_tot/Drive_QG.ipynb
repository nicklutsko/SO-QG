{
 "cells": [
  {
   "cell_type": "markdown",
   "metadata": {},
   "source": [
    "## Beta test functionality for potential object oriented QG system."
   ]
  },
  {
   "cell_type": "markdown",
   "metadata": {},
   "source": [
    "#### This notebook / package provides an object oriented version of the 2d QG spectral model: \n",
    "\n",
    "available properties of each model:\n",
    "\n",
    "         Model grid size:\n",
    " \n",
    "        self.N=N\n",
    "        self.N2=N2\n",
    "        self.x = np.linspace( 0, 2. * np.pi * Lx, N )\n",
    "        self.y = np.linspace( 0, 2. * np.pi * Ly, N2 ) #domain size\n",
    "        self.ll = np.fft.fftfreq( N, Ly / float(N2) )\n",
    "        self.kk = np.fft.rfftfreq( N2, Lx / float(N) )\n",
    "        \n",
    "        self.nu = .01 * (self.x[1] - self.x[0]) ** 4 #viscous dissipation\n",
    "        self.km = 1. / 5.4 #surface friction, corresponds to 25 days in JH\n",
    "        self.beta = 0.072 #beta in JH\n",
    "        self.dt = dt #time step\n",
    "        self.robert_coefficient = robert_coefficient\n",
    "        self.U = 1. #Maximum upper level wind speed\n",
    "        #Running EKE spectrum\n",
    "        self.ta = 100 #How often to calculate spectra\n",
    "        self.lim = 1 #when to start calculating spectra\n",
    "        \n",
    "        \n",
    "        #Spectral arrays, only need 3 time-steps\n",
    "        self.psic_1 = np.zeros( ( ( 3, N2, N // 2 + 1 ) ) ).astype( complex )\n",
    "        self.psic_2 = np.zeros( ( ( 3, N2, N // 2 + 1  ) ) ).astype( complex )\n",
    "        self.qc_1 = np.zeros( ( ( 3, N2, N // 2 + 1  ) ) ).astype( complex )\n",
    "        self.qc_2 = np.zeros( ( ( 3, N2, N // 2 + 1  ) ) ).astype( complex )\n",
    "        self.f0 = 40.\n",
    "        self.first_step = True\n",
    "        self.t=0\n",
    "        self.count=0\n",
    "        self.opt=3\n",
    "        \n",
    "        #Topography -- Gaussian mountain\n",
    "        self.h_tm = 0.3 #h_max / H_2 (depth of lower layer)\n",
    "        self.f0 = 40.\n",
    "        self.xm = max( self.x )\n",
    "        self.ym = max( self.y )\n",
    "        self.h_halfx = self.xm / 4. #E-folding length in x-direction\n",
    "        self.h_halfy = self.ym / 4. #E-folding length in y-direction\n",
    "        self.h = self.h_tm * np.exp( -( (self.x[np.newaxis, :] - self.xm / 2.)  / self.h_halfx ) ** 2 - ( ( self.y[:, np.newaxis] - self.ym / 2.) / self.h_halfy ) ** 2 )\n",
    "        #Background PV\n",
    "        self.Q_1 = np.zeros( ( self.N2, self.N ) )\n",
    "        self.Q_1[:, :] = (self.beta + self.U / 2.) * self.y[:, np.newaxis]\n",
    "        self.Q_2 = (self.beta - self.U / 2.) * self.y[:, np.newaxis] + self.f0 * self.h\n",
    "\n",
    "        self.Q_1c = np.fft.rfft2( self.Q_1)\n",
    "        self.Q_2c = np.fft.rfft2( self.Q_2)\n",
    "\n",
    "\n",
    "\n",
    "    \n"
   ]
  },
  {
   "cell_type": "code",
   "execution_count": 2,
   "metadata": {
    "collapsed": true
   },
   "outputs": [],
   "source": [
    "from QG.io import NetCDFWriter\n",
    "from QG.model import QG2D_Model\n",
    "import matplotlib.pyplot as plt\n",
    "import numpy as np"
   ]
  },
  {
   "cell_type": "markdown",
   "metadata": {},
   "source": [
    "## Instantiate a QG Model & Time Step It.\n",
    "\n",
    "This will save every step to a netcdf file"
   ]
  },
  {
   "cell_type": "code",
   "execution_count": 43,
   "metadata": {},
   "outputs": [
    {
     "name": "stdout",
     "output_type": "stream",
     "text": [
      "starting from scratch\n"
     ]
    }
   ],
   "source": [
    "N1 = 64\n",
    "N2 = 64\n",
    "dt = 0.005\n",
    "\n",
    "mod1 = QG2D_Model(N1,N2,dt,topo=True) #instantiates the model\n",
    "mod2 = QG2D_Model(N1,N2,dt,topo=True) #instantiates the model\n",
    "mod3 = QG2D_Model(N1,N2,dt,topo=True) #instantiates the model\n",
    "mod4 = QG2D_Model(N1,N2,dt,topo=True) #instantiates the model\n",
    "mod5 = QG2D_Model(N1,N2,dt,topo=True) #instantiates the model\n",
    "\n",
    "mod1.random_init()  #randomly initiates the model.\n",
    "\n",
    "print('Saving output at time: {}'.format(mod1.t))\n",
    "mod1.integrate()\n",
    "ModSaver = NetCDFWriter(mod1, 'New_Initiialize.nc')\n",
    "\n",
    "# #how many time steps to save: \n",
    "TS = 2000  #BE CAREFUL THIS SAVES EVERY TIME STEP AND CAN GET BIG FAST.\n",
    "for ii in range(0,TS):\n",
    "    mod1.integrate()\n",
    "    mod2.integrate()\n",
    "    ModSaver.save()\n",
    "ModSaver.close()"
   ]
  },
  {
   "cell_type": "markdown",
   "metadata": {},
   "source": [
    "## Function to Save 'Snap Shots':\n",
    "\n",
    "This function allows you to run and save every X steps"
   ]
  },
  {
   "cell_type": "code",
   "execution_count": 47,
   "metadata": {},
   "outputs": [
    {
     "name": "stdout",
     "output_type": "stream",
     "text": [
      "starting from scratch\n",
      "First Step?: True\n",
      "First Step?: False\n"
     ]
    }
   ],
   "source": [
    "N1 = 64\n",
    "N2 = 64\n",
    "dt = 0.005\n",
    "\n",
    "mod1 = QG2D_Model(N1,N2,dt,topo=True)\n",
    "mod1.random_init()\n",
    "print('First Step?:',mod1.first_step)\n",
    "mod1.integrate()\n",
    "print('First Step?:',mod1.first_step)\n"
   ]
  },
  {
   "cell_type": "code",
   "execution_count": 48,
   "metadata": {},
   "outputs": [
    {
     "name": "stdout",
     "output_type": "stream",
     "text": [
      "starting from scratch\n",
      "spin up model\n",
      "..spun up.. ..saving in steps..\n",
      "4.999999999999916\n",
      "1000\n",
      "Saving output at time: 1100\n",
      "Saving output at time: 1200\n",
      "Saving output at time: 1300\n",
      "Saving output at time: 1400\n",
      "Saving output at time: 1500\n",
      "Saving output at time: 1600\n",
      "Saving output at time: 1700\n",
      "Saving output at time: 1800\n",
      "Saving output at time: 1900\n",
      "Saving output at time: 2000\n"
     ]
    }
   ],
   "source": [
    "N1 = 64\n",
    "N2 = 64\n",
    "dt = 0.005\n",
    "mod1 = QG2D_Model(N1,N2,dt,topo=True)\n",
    "mod1.random_init()\n",
    "mod1.lim=1000 #spin up time.\n",
    "\n",
    "mult1 = 1000 #total run time\n",
    "mult2 = 100 #output save interval\n",
    "\n",
    "saver = NetCDFWriter(mod1, 'SaveSnapShots.nc')\n",
    "second = mod1.dt  #remember dt \n",
    "run_time = mult1 * second\n",
    "output_interval = mult2 * second\n",
    "\n",
    "#eventually put this in the back end? \n",
    "sk = np.zeros( ( ( mult1 // mult2, mod1.N2, mod1.N // 2 + 1) ) )\n",
    "tak = np.zeros( ( ( mult1 // mult2, mod1.N2, mod1.N // 2 + 1) ) )\n",
    "tkk = np.zeros( ( ( mult1 // mult2, mod1.N2, mod1.N // 2 + 1) ) )\n",
    "tak = np.zeros( ( ( mult1 // mult2, mod1.N2, mod1.N // 2 + 1) ) )\n",
    "fk = np.zeros( ( ( mult1 // mult2, mod1.N2, mod1.N // 2 + 1) ) )\n",
    "vk = np.zeros( ( ( mult1 // mult2, mod1.N2, mod1.N // 2 + 1) ) )\n",
    "ek = np.zeros( ( ( mult1 // mult2, mod1.N2, mod1.N // 2 + 1) ) )\n",
    "\n",
    "print('spin up model')\n",
    "for ii in range(0,mod1.lim):\n",
    "    mod1.integrate()\n",
    "print('..spun up.. ..saving in steps..')\n",
    "\n",
    "print(mod1.t)\n",
    "mod1.t=0 #this is hacky... fix it ... maybe use 'self.random_init()' to spin up the model too, then reset. \n",
    "\n",
    "# The run_with_snapshots method is an iterator that yields the\n",
    "# current model time at the given interval. This means we can\n",
    "# loop over the iterator saving the current model state.\n",
    "for ii,t in enumerate(mod1.run_with_snapshots(run_time, snapshot_interval=output_interval)):\n",
    "    print('Saving output at time: {}'.format(mod1.count))\n",
    "    mod1.calc_energy_budget()\n",
    "    ek[ii]=mod1.ek\n",
    "    tak[ii]=mod1.tak\n",
    "    fk[ii]=mod1.fk\n",
    "    tkk[ii]=mod1.tkk\n",
    "    vk[ii]=mod1.vk\n",
    "    sk[ii]=mod1.sk\n",
    "    saver.save()\n",
    "saver.close()"
   ]
  },
  {
   "cell_type": "markdown",
   "metadata": {},
   "source": [
    "## Plot Current PV Values:"
   ]
  },
  {
   "cell_type": "code",
   "execution_count": 31,
   "metadata": {},
   "outputs": [
    {
     "name": "stdout",
     "output_type": "stream",
     "text": [
      "starting from scratch\n"
     ]
    }
   ],
   "source": [
    "#how many time steps to save: \n",
    "mod1 = QG2D_Model(N1,N2,dt,Lx,Ly,topo=True)\n",
    "mod1.random_init()\n",
    "TS = 40000  #integrate without saving. \n",
    "for ii in range(0,TS):\n",
    "    mod1.integrate()\n",
    "    mod1.calc_energy_budget()\n"
   ]
  },
  {
   "cell_type": "code",
   "execution_count": 49,
   "metadata": {},
   "outputs": [
    {
     "data": {
      "image/png": "[encoded data removed]",
      "text/plain": [
       "<Figure size 864x288 with 4 Axes>"
      ]
     },
     "metadata": {
      "needs_background": "light"
     },
     "output_type": "display_data"
    },
    {
     "data": {
      "image/png": "[encoded data removed]",
      "text/plain": [
       "<Figure size 864x288 with 2 Axes>"
      ]
     },
     "metadata": {
      "needs_background": "light"
     },
     "output_type": "display_data"
    }
   ],
   "source": [
    "pv1,pv2 = mod1.q_sp2re()\n",
    "plt.figure(figsize=(12,4))\n",
    "ax = plt.subplot(1, 2, 1)\n",
    "plt.contourf(mod1.x, mod1.y, pv1,30,cmap = plt.cm.coolwarm, vmin=-50,vmax=50)\n",
    "cs = plt.colorbar()\n",
    "cs.set_label(\"PV$_1$\")\n",
    "\n",
    "ax = plt.subplot(1, 2, 2)\n",
    "plt.contourf(mod1.x, mod1.y, pv2,30,cmap = plt.cm.coolwarm, vmin=-30,vmax=30)\n",
    "cs = plt.colorbar()\n",
    "cs.set_label(\"PV$_2$\")\n",
    "\n",
    "plt.show()\n",
    "\n",
    "plt.figure(figsize=(12,4))\n",
    "ax = plt.subplot(1, 2, 1)\n",
    "plt.semilogy(nKs[1:], nek[1:] )\n",
    "plt.xlim([0,6])\n",
    "\n",
    "plt.subplot(1, 2, 2)\n",
    "plt.plot( nKs, nsk )\n",
    "plt.plot(  nKs, ntak)\n",
    "plt.plot(  nKs, ntkk)\n",
    "plt.plot(  nKs, nfk )\n",
    "plt.plot(  nKs, nvk)\n",
    "plt.xlim([0,2])\n",
    "plt.legend([\"sk\", \"tak\", \"tkk\", \"fk\", \"vk\"], loc = \"upper right\",fontsize=14)\n",
    "plt.show()"
   ]
  },
  {
   "cell_type": "code",
   "execution_count": 41,
   "metadata": {},
   "outputs": [],
   "source": [
    "ek = np.mean(ek, axis = 0)\n",
    "ek = np.reshape(ek, (mod1.N2 * (mod1.N//2 + 1) ))\n",
    "\n",
    "sk = np.mean(sk, axis = 0)\n",
    "sk = np.reshape(sk, (mod1.N2 * (mod1.N//2 + 1) ))\n",
    "\n",
    "tak = np.mean(tak, axis = 0)\n",
    "tak = np.reshape(tak, (mod1.N2 * (mod1.N//2 + 1) ))\n",
    "\n",
    "tkk = np.mean(tkk, axis = 0)\n",
    "tkk = np.reshape(tkk, (mod1.N2 * (mod1.N//2 + 1) ))\n",
    "\n",
    "fk = np.mean(fk, axis = 0)\n",
    "fk = np.reshape(fk, (mod1.N2 * (mod1.N//2 + 1) ))\n",
    "\n",
    "vk = np.mean(vk, axis = 0)\n",
    "vk = np.reshape(vk, (mod1.N2 * (mod1.N//2 + 1) ))\n",
    "\n",
    "Ks = np.reshape( mod1.Ks, (mod1.N2 * (mod1.N//2 + 1) ))\n",
    "inds = Ks.argsort()\n",
    "Ks.sort()\n",
    "ek = ek[inds] \n",
    "sk = sk[inds] \n",
    "tak = tak[inds] \n",
    "tkk = tkk[inds] \n",
    "fk = fk[inds] \n",
    "vk = vk[inds] \n",
    "\n",
    "#Sum over duplicates. There must be a better way...\n",
    "nKs = np.unique( Ks )\n",
    "nek = np.zeros( len(nKs) )\n",
    "nsk = np.zeros( len(nKs) )\n",
    "ntak = np.zeros( len(nKs) )\n",
    "ntkk = np.zeros( len(nKs) )\n",
    "nfk = np.zeros( len(nKs) )\n",
    "nvk = np.zeros( len(nKs) )\n",
    "for i in range( len(nKs) ):\n",
    "    nek[i] = sum(ek[np.where( Ks == nKs[i])])\n",
    "    nsk[i] = sum(sk[np.where( Ks == nKs[i])])\n",
    "    ntak[i] = sum(tak[np.where( Ks == nKs[i])])\n",
    "    ntkk[i] = sum(tkk[np.where( Ks == nKs[i])])\n",
    "    nfk[i] = sum(fk[np.where( Ks == nKs[i])])\n",
    "    nvk[i] = sum(vk[np.where( Ks == nKs[i])])"
   ]
  },
  {
   "cell_type": "code",
   "execution_count": null,
   "metadata": {
    "collapsed": true
   },
   "outputs": [],
   "source": []
  }
 ],
 "metadata": {
  "kernelspec": {
   "display_name": "Python (Dawson)",
   "language": "python",
   "name": "dawson"
  },
  "language_info": {
   "codemirror_mode": {
    "name": "ipython",
    "version": 3
   },
   "file_extension": ".py",
   "mimetype": "text/x-python",
   "name": "python",
   "nbconvert_exporter": "python",
   "pygments_lexer": "ipython3",
   "version": "3.6.10"
  }
 },
 "nbformat": 4,
 "nbformat_minor": 2
}
